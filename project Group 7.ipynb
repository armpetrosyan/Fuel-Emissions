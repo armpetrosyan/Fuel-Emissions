{
 "cells": [
  {
   "cell_type": "markdown",
   "metadata": {},
   "source": [
    "#  Fuel Emissions"
   ]
  },
  {
   "cell_type": "markdown",
   "metadata": {},
   "source": [
    "#### Hello there, \n",
    "   Throughout this project you will see different plots representing different data providing meaningfull insights for the viewer. The data we used is frfom carbon_data.xlsx, which is a combination of different sheets, representing data for each country. We have manipulated the data, worked with it, and have brought out interseting findings."
   ]
  },
  {
   "cell_type": "code",
   "execution_count": null,
   "metadata": {},
   "outputs": [],
   "source": [
    "\n",
    "import numpy as np\n",
    "import pandas as pd\n",
    "from sklearn.linear_model import LinearRegression\n",
    "import matplotlib.pyplot as plt\n",
    "import seaborn as sns"
   ]
  },
  {
   "cell_type": "markdown",
   "metadata": {},
   "source": [
    "The code reads data from an Excel file named \"carbon_data.xlsx\" using pandas. \n",
    "\n",
    "1. First, it opens the Excel file and stores it in the variable `data` using the `pd.ExcelFile` function.\n",
    "2. Then, it reads the data from the second sheet (indexed at 1) of the Excel file into a pandas DataFrame named `carbon_data` using the `pd.read_excel` function.\n",
    "\n",
    "This code snippet allows for easy importation and manipulation of data from Excel files into Python using pandas, enabling further analysis and visualization.\n"
   ]
  },
  {
   "cell_type": "code",
   "execution_count": null,
   "metadata": {},
   "outputs": [],
   "source": [
    "data = pd.ExcelFile(\"carbon_data.xlsx\")\n",
    "carbon_data = pd.read_excel(data, sheet_name=1)"
   ]
  },
  {
   "cell_type": "code",
   "execution_count": null,
   "metadata": {},
   "outputs": [],
   "source": [
    "carbon_data"
   ]
  },
  {
   "cell_type": "markdown",
   "metadata": {},
   "source": [
    "The code generates a bar plot showing the average daily time spent on the internet by individuals following different diets. The data is grouped by the 'Diet' column, and the mean of the 'How Long Internet Daily Hour' column is calculated for each group. The resulting grouped data is then visualized using matplotlib.\n",
    "\n",
    "- The x-axis represents the different diets.\n",
    "- The y-axis represents the average daily time spent on the internet in hours.\n",
    "- Each bar corresponds to a diet category, with the height indicating the average time spent on the internet.\n",
    "\n",
    "The bars are color-coded for visual distinction, using shades of blue ('#016064', '#48AAAD', '#022D36','#1F456E'). Grid lines are included for better readability.\n",
    "\n",
    "The figure size is set to (7.5, 5) inches to ensure proper visualization, and tight layout adjustment is applied to avoid overlapping elements. Finally, the plot is displayed using plt.show().\n"
   ]
  },
  {
   "cell_type": "code",
   "execution_count": null,
   "metadata": {},
   "outputs": [],
   "source": [
    "grouped_data = carbon_data.groupby('Diet')['How Long Internet Daily Hour'].mean().reset_index()\n",
    "plt.figure(figsize=(7.5, 5))\n",
    "\n",
    "plt.bar(grouped_data['Diet'], grouped_data['How Long Internet Daily Hour'], color=['#016064', '#48AAAD', '#022D36','#1F456E'],width=0.4)\n",
    "plt.title('Average Time Spent on Internet by Diet')\n",
    "plt.xlabel('Diet')\n",
    "plt.ylabel('Average Time on Internet (hours)')\n",
    "\n",
    "plt.grid(True)\n",
    "plt.tight_layout()\n",
    "\n",
    "plt.show()"
   ]
  },
  {
   "cell_type": "markdown",
   "metadata": {},
   "source": [
    "The code generates a bar plot showing the average monthly distance traveled by vehicles for different transportation modes. The data is grouped by the 'Transport' column, and the mean of the 'Vehicle Monthly Distance Km' column is calculated for each group. The resulting grouped data is then visualized using matplotlib.\n",
    "\n",
    "- The x-axis represents the transportation modes.\n",
    "- The y-axis represents the average distance traveled in kilometers.\n",
    "- Each bar corresponds to a transportation mode, with the height indicating the average distance traveled.\n",
    "\n",
    "The bars are color-coded for visual distinction, using shades of blue ('#016064', '#48AAAD', '#022D36','#1F456E'). Grid lines are included for better readability.\n",
    "\n",
    "The figure size is set to (7.5, 5) inches to ensure proper visualization, and tight layout adjustment is applied to avoid overlapping elements. Finally, the plot is displayed using plt.show().\n"
   ]
  },
  {
   "cell_type": "markdown",
   "metadata": {},
   "source": [
    "Loading data from sheet"
   ]
  },
  {
   "cell_type": "code",
   "execution_count": null,
   "metadata": {},
   "outputs": [],
   "source": [
    "grouped_data = carbon_data.groupby('Transport')['Vehicle Monthly Distance Km'].mean().reset_index()\n",
    "plt.figure(figsize=(7.5, 5))\n",
    "\n",
    "plt.bar(grouped_data['Transport'], grouped_data['Vehicle Monthly Distance Km'], color=['#016064', '#48AAAD', '#022D36','#1F456E'],width=0.4)\n",
    "plt.title('Average Vehicle Monthly Distance Km by Transport')\n",
    "plt.xlabel('Transport')\n",
    "plt.ylabel('Average Km using Transport')\n",
    "\n",
    "plt.grid(True)\n",
    "plt.tight_layout()\n",
    "\n",
    "plt.show()\n"
   ]
  },
  {
   "cell_type": "markdown",
   "metadata": {},
   "source": [
    "The code generates a pie chart to illustrate the distribution of average monthly distances traveled by vehicles across various transportation modes.\n",
    "\n",
    "The data in the DataFrame `carbon_data` is grouped by the transportation mode ('Transport') column, and the mean monthly distance traveled ('Vehicle Monthly Distance Km') is calculated for each group. The resulting grouped data is stored in the variable `grouped_data`.\n",
    "\n",
    "A pie chart is created using matplotlib's `plt.pie()` function. Each slice of the pie represents a transportation mode, and its size corresponds to the average monthly distance traveled by vehicles for that mode.\n",
    "\n",
    "The pie chart is colored using predefined color codes to enhance visual clarity.\n",
    "\n",
    "The title of the pie chart indicates its purpose: to display the average vehicle monthly distance by transport mode.\n",
    "\n",
    "Tight layout adjustment is applied to ensure proper spacing of plot elements.\n",
    "\n",
    "A legend is included in the plot, positioned for optimal readability. The legend labels correspond to the different transportation modes.\n",
    "\n",
    "Finally, the plot is displayed using `plt.show()`.\n",
    "\n",
    "This visualization provides an intuitive representation of how the average monthly distances traveled by vehicles are distributed among different transportation modes.\n"
   ]
  },
  {
   "cell_type": "code",
   "execution_count": null,
   "metadata": {},
   "outputs": [],
   "source": [
    "grouped_data = carbon_data.groupby('Transport')['Vehicle Monthly Distance Km'].mean().reset_index()\n",
    "\n",
    "plt.figure(figsize=(7.5, 5))\n",
    "\n",
    "plt.pie(grouped_data['Vehicle Monthly Distance Km'], labels=grouped_data['Transport'], colors=[ '#F5DAD2', '#BACD92', '#75A47F'], autopct='%1.1f%%')\n",
    "\n",
    "plt.title('Average Vehicle Monthly Distance Km by Transport')\n",
    "\n",
    "plt.tight_layout()\n",
    "plt.legend(loc=\"best\", labels=grouped_data['Transport'])\n",
    "\n",
    "plt.show()\n"
   ]
  },
  {
   "cell_type": "code",
   "execution_count": null,
   "metadata": {},
   "outputs": [],
   "source": [
    "data_1 = pd.ExcelFile(\"carbon_data.xlsx\")\n",
    "df = pd.read_excel(data_1, sheet_name=4)\n",
    "df  "
   ]
  },
  {
   "cell_type": "markdown",
   "metadata": {},
   "source": [
    "Taking out the data need for ploting."
   ]
  },
  {
   "cell_type": "code",
   "execution_count": null,
   "metadata": {},
   "outputs": [],
   "source": [
    "df_1 = df[df.Area == \"United States of America\"][df.Item == \"Energy\"][df.Element == \"Emissions (CO2)\"]\n",
    "\n",
    "df_2 = df[df.Area == \"Russian Federation\"][df.Item == \"Energy\"][df.Element == \"Emissions (CO2)\"]\n",
    "\n",
    "df_3 = df[df.Area == \"Iran (Islamic Republic of)\"][df.Item == \"Energy\"][df.Element == \"Emissions (CO2)\"]\n",
    "\n",
    "df_4 = df[df.Area == \"China\"][df.Item == \"Energy\"][df.Element == \"Emissions (CO2)\"]"
   ]
  },
  {
   "cell_type": "markdown",
   "metadata": {},
   "source": [
    "The code below does the following:\n",
    "1. Takes the data stored from 2000-2020 for each country\n",
    "2. Flattens the data for plotting\n",
    "3. Plots the result"
   ]
  },
  {
   "cell_type": "code",
   "execution_count": null,
   "metadata": {},
   "outputs": [],
   "source": [
    "df_1_selected = df_1[[2000, 2001, 2002, 2003, 2004, 2005, 2006, 2007,2008, 2009, 2010, 2011, 2012, 2013, 2014, 2015, 2016, 2017, 2018, 2019, 2020]]\n",
    "df_2_selected = df_2[[2000, 2001, 2002, 2003, 2004, 2005, 2006, 2007,2008, 2009, 2010, 2011, 2012, 2013, 2014, 2015, 2016, 2017, 2018, 2019, 2020]]\n",
    "df_3_selected = df_3[[2000, 2001, 2002, 2003, 2004, 2005, 2006, 2007,2008, 2009, 2010, 2011, 2012, 2013, 2014, 2015, 2016, 2017, 2018, 2019, 2020]]\n",
    "df_4_selected = df_4[[2000, 2001, 2002, 2003, 2004, 2005, 2006, 2007,2008, 2009, 2010, 2011, 2012, 2013, 2014, 2015, 2016, 2017, 2018, 2019, 2020]]\n",
    "\n",
    "x_axis = [\"2000\", \"2001\", \"2002\", \"2003\", \"2004\", \"2005\", \"2006\", \"2007\",\"2008\", \"2009\", \"2010\", \"2011\", \"2012\", \"2013\", \"2014\", \"2015\", \"2016\", \"2017\", \"2018\", \"2019\", \"2020\"]\n",
    "\n",
    "y_axis = df_1_selected.values.flatten()\n",
    "y_1_axis = df_2_selected.values.flatten()\n",
    "y_2_axis = df_3_selected.values.flatten()\n",
    "y_3_axis = df_4_selected.values.flatten()\n",
    "\n",
    "plt.figure(figsize=(15, 8))\n",
    "\n",
    "plt.plot(x_axis, y_axis, color='blue', linewidth=3, linestyle='--', marker='o', label='USA')\n",
    "plt.plot(x_axis, y_1_axis, color='orange', linewidth=3, linestyle='--', marker='d', label='Russia')\n",
    "plt.plot(x_axis, y_2_axis, color='red', linewidth=3, linestyle='--', marker='v', label='Iran')\n",
    "plt.plot(x_axis, y_3_axis, color='purple', linewidth=3, linestyle='--', marker='^', label='China')\n",
    "\n",
    "plt.xlabel('Years') \n",
    "plt.ylabel('CO2 Emissions(Kilotonnes)')\n",
    "plt.title('CO2 Emissions Over Time')\n",
    "\n",
    "plt.xticks(rotation=45)\n",
    "plt.legend()\n",
    "plt.grid(True)\n",
    "\n",
    "plt.show()"
   ]
  },
  {
   "cell_type": "markdown",
   "metadata": {},
   "source": [
    "Here we calculated the average emission of CO2 amongst each countries population:"
   ]
  },
  {
   "cell_type": "code",
   "execution_count": null,
   "metadata": {},
   "outputs": [],
   "source": [
    "# Define CO2 emissions in tons and populations\n",
    "co2_emissions = {\n",
    "    \"United States\": y_axis * 1000,\n",
    "    \"Russian Federation\": y_1_axis * 1000,\n",
    "    \"Iran (Islamic Republic of)\" : y_2_axis * 1000,\n",
    "    \"China\" : y_3_axis * 1000\n",
    "    \n",
    "}\n",
    "\n",
    "populations = {\n",
    "    \"United States\": 341571980,\n",
    "    \"Russian Federation\": 144021820,\n",
    "    \"Iran (Islamic Republic of)\": 89724761,\n",
    "    \"China\" : 1425244312\n",
    "\n",
    "}\n",
    "\n",
    "# Create DataFrames for CO2 emissions\n",
    "dfs = []\n",
    "for country, emissions in co2_emissions.items():\n",
    "    df_capita = pd.DataFrame({'Year': range(2000, 2021), 'CO2 Emission': emissions})\n",
    "    total_emission = df_capita['CO2 Emission'].sum()\n",
    "    mean_per_capita = total_emission / populations[country]\n",
    "    dfs.append({\"Country\": country, \"Population\": populations[country], \"C02 Emissions per capita(2000-2020)\": mean_per_capita})\n",
    "\n",
    "# Combine DataFrames\n",
    "df_mean = pd.DataFrame(dfs)\n",
    "\n",
    "df_mean"
   ]
  },
  {
   "cell_type": "markdown",
   "metadata": {},
   "source": [
    "Here we just plot the data we ubtained from above:"
   ]
  },
  {
   "cell_type": "code",
   "execution_count": null,
   "metadata": {},
   "outputs": [],
   "source": [
    "plt.figure(figsize=(15, 8))\n",
    "for country, emissions in co2_emissions.items():\n",
    "    total_emission = sum(emissions)\n",
    "    mean_per_capita = total_emission / populations[country]\n",
    "    plt.plot(range(2000, 2021), emissions, label=country)\n",
    "\n",
    "plt.title('CO2 Emissions per Capita (2000-2020)')\n",
    "plt.xlabel('Year')\n",
    "plt.ylabel('CO2 Emission per Capita (tons)')\n",
    "plt.legend()\n",
    "plt.grid(True)\n",
    "plt.show()"
   ]
  },
  {
   "cell_type": "markdown",
   "metadata": {},
   "source": [
    "A prediction for the next 10 years of CO2 emissions:"
   ]
  },
  {
   "cell_type": "code",
   "execution_count": null,
   "metadata": {},
   "outputs": [],
   "source": [
    "# Perform linear regression to predict CO2 emissions for the next 10 years for each country\n",
    "predicted_emissions = {}\n",
    "for country, emissions in co2_emissions.items():\n",
    "    # Create DataFrame specific to the current country\n",
    "    df = pd.DataFrame({'Year': range(2000, 2021), 'CO2 Emission': emissions})\n",
    "\n",
    "    # Perform linear regression for this country's data\n",
    "    X = np.array(df['Year']).reshape(-1, 1)\n",
    "    y = np.array(df['CO2 Emission'])\n",
    "    model = LinearRegression().fit(X, y)\n",
    "\n",
    "    # Predict future years for this country\n",
    "    future_years = np.array(range(2021, 2031)).reshape(-1, 1)\n",
    "    predicted_co2 = model.predict(future_years)\n",
    "\n",
    "    # Store predictions for the current country\n",
    "    predicted_emissions[country] = predicted_co2\n",
    "\n",
    "# Plotting the data\n",
    "plt.figure(figsize=(15, 8))  # Increase figure size for better readability\n",
    "\n",
    "# Define a color list for different countries\n",
    "colors = ['b', 'g', 'r', 'c']  # Adjust colors as needed\n",
    "\n",
    "for i, (country, emissions) in enumerate(predicted_emissions.items()):\n",
    "    # Plot actual emissions with solid line and opacity\n",
    "    plt.plot(range(2000, 2021), co2_emissions[country], label=f\"{country} Actual\", \n",
    "            color=colors[i], alpha=0.7)\n",
    "    # Plot predicted emissions with dashed line and different style\n",
    "    plt.plot(range(2021, 2031), emissions, linestyle='--', linewidth=2, marker='o', \n",
    "            label=f\"{country} Predicted\", color=colors[i])\n",
    "\n",
    "# Customize labels and title\n",
    "plt.title('CO2 Emissions Over Time (2000-2030)', fontsize=16)  # Increase font size\n",
    "plt.xlabel('Year', fontsize=14)\n",
    "plt.ylabel('CO2 Emission (tons)', fontsize=14)\n",
    "\n",
    "# Rotate x-axis labels for better readability\n",
    "plt.xticks(rotation=45)\n",
    "\n",
    "# Improve legend placement and style\n",
    "legend = plt.legend(title=\"Countries\", loc='upper left')\n",
    "for label in legend.get_texts():\n",
    "    label.set_fontsize(12)  # Set legend text size\n",
    "\n",
    "# Adjust grid appearance\n",
    "plt.grid(True)\n",
    "\n",
    "# Display the plot\n",
    "plt.tight_layout()  # Adjust spacing between elements for better layout\n",
    "plt.show()\n"
   ]
  },
  {
   "cell_type": "code",
   "execution_count": null,
   "metadata": {},
   "outputs": [],
   "source": [
    "data_2 = pd.ExcelFile(\"carbon_data.xlsx\")\n",
    "df = pd.read_excel(data_2, sheet_name=4)\n",
    "df"
   ]
  },
  {
   "cell_type": "markdown",
   "metadata": {},
   "source": [
    "Then we have to clean our data (remove dublicates, empty spaces)"
   ]
  },
  {
   "cell_type": "code",
   "execution_count": null,
   "metadata": {},
   "outputs": [],
   "source": [
    "df.dropna(inplace = True)\n",
    "df.drop_duplicates(inplace = True)"
   ]
  },
  {
   "cell_type": "markdown",
   "metadata": {},
   "source": [
    "Now we can start vizualising our data\n"
   ]
  },
  {
   "cell_type": "markdown",
   "metadata": {},
   "source": [
    "### #1 Total Carbon Emmisions Trend for Armenia"
   ]
  },
  {
   "cell_type": "code",
   "execution_count": null,
   "metadata": {},
   "outputs": [],
   "source": [
    "plt.figure(figsize=(12, 6))\n",
    "plt.plot(df.columns[4:], df[df['Area'] == 'Armenia'].iloc[0, 4:], marker='o', linestyle='-', color='blue', linewidth=2, markersize=8)\n",
    "plt.title(f'Total Carbon Emissions Trend for Armenia ', fontsize=16)\n",
    "plt.xlabel('Year', fontsize=14)\n",
    "plt.ylabel('Total Carbon Emissions', fontsize=14)\n",
    "plt.xticks(fontsize=12)\n",
    "plt.yticks(fontsize=12)\n",
    "plt.grid(True)\n",
    "plt.show()"
   ]
  },
  {
   "cell_type": "markdown",
   "metadata": {},
   "source": [
    "This plot depicts the total carbon emissions trend for Armenia over a period of time. The horizontal axis represents the years, while the vertical axis indicates the corresponding total carbon emissions in metric tons."
   ]
  },
  {
   "cell_type": "markdown",
   "metadata": {},
   "source": [
    "### #2 Total Carbon Emissions by (small) Region"
   ]
  },
  {
   "cell_type": "code",
   "execution_count": null,
   "metadata": {},
   "outputs": [],
   "source": [
    "europe = ['Germany', 'France', 'Italy', 'Spain', 'United Kingdom', 'Netherlands']\n",
    "asia = ['China', 'India', 'Japan', 'South Korea']\n",
    "north_america = ['United States', 'Canada', 'Mexico']\n",
    "regions = {'Europe': europe, 'Asia': asia, 'North America': north_america}\n",
    "region_emissions = {}\n",
    "for region, countries in regions.items():\n",
    "    region_emissions[region] = df[df['Area'].isin(countries)].iloc[:, 4:].sum(axis=0)\n",
    "plt.figure(figsize=(12, 6))\n",
    "for region, emissions in region_emissions.items():\n",
    "    plt.plot(emissions.index, emissions.values, label=region)\n",
    "plt.title('Total Carbon Emissions by Region')\n",
    "plt.xlabel('Year')\n",
    "plt.ylabel('Total Carbon Emissions')\n",
    "plt.legend()\n",
    "plt.grid(True)\n",
    "plt.show()"
   ]
  },
  {
   "cell_type": "markdown",
   "metadata": {},
   "source": [
    "This visualization presents the total carbon emissions trend for various global regions over time. The horizontal axis delineates the years, while the vertical axis quantifies the total carbon emissions in metric tons."
   ]
  },
  {
   "cell_type": "markdown",
   "metadata": {},
   "source": [
    "### #3 Total Carbon Emissions in 2020\n"
   ]
  },
  {
   "cell_type": "code",
   "execution_count": null,
   "metadata": {},
   "outputs": [],
   "source": [
    "plt.figure(figsize=(10, 6))\n",
    "plt.hist(df[2020], bins=20)\n",
    "plt.title(f'Distribution of Total Carbon Emissions in 2020')\n",
    "plt.xlabel('Total Carbon Emissions')\n",
    "plt.ylabel('Frequency')\n",
    "plt.grid(True)\n",
    "plt.show()"
   ]
  },
  {
   "cell_type": "markdown",
   "metadata": {},
   "source": [
    "The plot depicts a histogram with the horizontal axis representing the total carbon emissions, and the vertical axis indicating the frequency of occurrences of carbon emission values within specific bins."
   ]
  },
  {
   "cell_type": "markdown",
   "metadata": {},
   "source": [
    "### #4 Distribution of Total Carbon Emissions in 2009 vs 2020 for Syria"
   ]
  },
  {
   "cell_type": "markdown",
   "metadata": {},
   "source": [
    "This code generates two histograms to illustrate the distribution of total carbon emissions in Syria for the years 2009 and 2020.\n"
   ]
  },
  {
   "cell_type": "code",
   "execution_count": null,
   "metadata": {},
   "outputs": [],
   "source": [
    "syria_data = df[df['Area'] == 'Syrian Arab Republic'][[2009, 2020]]\n",
    "plt.figure(figsize=(10, 5))\n",
    "plt.subplot(1, 2, 1)\n",
    "plt.hist(syria_data[2009], bins=20, color='skyblue')\n",
    "plt.title('Distribution of Total Carbon Emissions in 2009 (Syria)')\n",
    "plt.xlabel('Total Carbon Emissions')\n",
    "plt.ylabel('Frequency')\n",
    "\n",
    "plt.subplot(1, 2, 2)\n",
    "plt.hist(syria_data[2020], bins=20, color='lightgreen')\n",
    "plt.title('Distribution of Total Carbon Emissions in 2020 (Syria)')\n",
    "plt.xlabel('Total Carbon Emissions')\n",
    "plt.ylabel('Frequency')\n",
    "plt.grid(True)\n",
    "\n",
    "plt.tight_layout()  # no overlap\n",
    "plt.show()\n"
   ]
  },
  {
   "cell_type": "code",
   "execution_count": null,
   "metadata": {},
   "outputs": [],
   "source": [
    "file_path = pd.ExcelFile(\"compiled_carbon_dataTM.xlsx\")\n",
    "df = pd.read_excel(file_path, sheet_name='Total Emissions Per Country')\n",
    "display(df)"
   ]
  },
  {
   "cell_type": "markdown",
   "metadata": {},
   "source": [
    "Below code snippet performs the follwoing steps:\n",
    "1. Initializes a dictionary to store top 3 countries per year\n",
    "2. Calculates the sum of emissions for each country for the year and get the top 3\n",
    "3. Converts the dictionary to a DataFrame for easier manipulation\n",
    "4. Transposes the DataFrame for plotting\n",
    "5. Plots the results"
   ]
  },
  {
   "cell_type": "code",
   "execution_count": null,
   "metadata": {},
   "outputs": [],
   "source": [
    "top_3_per_year = {}\n",
    "years = list(range(2000, 2021))\n",
    "\n",
    "for year in years: \n",
    "    top_3_per_year[year] = df.groupby('Area')[year].sum().nlargest(3)\n",
    " \n",
    "top_3_per_year_df = pd.DataFrame(top_3_per_year)\n",
    "transposed_df = top_3_per_year_df.transpose()\n",
    "\n",
    "plt.figure(figsize=(15, 8))\n",
    "for country in transposed_df.columns:\n",
    "    plt.plot(years, transposed_df[country], label=country, marker='o')\n",
    "plt.title('Top 3 Countries by Total Emissions Per Year')\n",
    "plt.xlabel('Year')\n",
    "plt.ylabel('Total Emissions (kilotonnes CO2 equivalent)')\n",
    "plt.legend(title='Country')\n",
    "plt.grid(True)\n",
    "plt.xticks(years, rotation=45)\n",
    "plt.tight_layout()\n",
    "plt.show()"
   ]
  },
  {
   "cell_type": "markdown",
   "metadata": {},
   "source": [
    "Now we want to find top three contributing items to emissions for each of the above four countries, along with their total quantities summed across all years by the following steps:\n",
    "1. Ensure that all year columns are identified correctly, assuming year columns are numeric but need to be checked as string\n",
    "2. Group by 'Area' and 'Item', then sum only the year columns\n",
    "3. Define the top countries\n",
    "4. Initialize a dictionary to store the top 3 items per country\n",
    "5. Sum emissions across all years for each item within the specific country and get the top 3 items with the highest emissions, storing the results in a dictionary\n",
    "6. Display the results"
   ]
  },
  {
   "cell_type": "code",
   "execution_count": null,
   "metadata": {},
   "outputs": [],
   "source": [
    "year_columns = [col for col in df.columns if isinstance(col, int) or col.isdigit()]\n",
    "\n",
    "item_emissions = df.groupby(['Area', 'Item'])[year_columns].sum()\n",
    "top_countries = [\"China\", \"United States of America\", \"India\", \"Brazil\"]\n",
    "top_items_per_country = {}\n",
    "\n",
    "for country in top_countries:\n",
    "    total_emissions = item_emissions.loc[country].sum(axis=1)\n",
    "    top_3_items = total_emissions.nlargest(3)\n",
    "    top_items_per_country[country] = top_3_items\n",
    "\n",
    "for country, items in top_items_per_country.items():\n",
    "    print(f\"{country}:\")\n",
    "    for item, total in items.items():\n",
    "        print(f\"{item}: {total / 1e6:.5f} million kilotonnes CO2 equivalent\")\n",
    "    print()"
   ]
  },
  {
   "cell_type": "markdown",
   "metadata": {},
   "source": [
    "Now, when we have identified the top contrubutor countries, we prepared 2x2 pie charts representing the top three emission items for  them (China, the United States of America, India, and Brazil). \n",
    "Each pie chart displays the proportion of total emissions contributed by the top three items for each country.\n",
    "Steps are:\n",
    "1. Sample data prepared from the previous discussion assuming we have the top 3 items per country with their emissions\n",
    "2. Create a 2x2 grid of pie charts Flattening it into a 1D array for easier indexing\n",
    "3. Iterate over each country and its top 3 items, creating a pie chart for each\n",
    "4. Adjust layout to prevent overlap and display it"
   ]
  },
  {
   "cell_type": "code",
   "execution_count": null,
   "metadata": {},
   "outputs": [],
   "source": [
    "top_items_per_country = {\n",
    "    'China': {'Energy': 348288500, 'Agri-food systems': 70638320, 'IPPU': 50614080},\n",
    "    'United States of America': {'Energy': 240097800, 'Agri-food systems': 47245000, 'IPCC Agriculture': 40559400},\n",
    "    'India': {'Energy': 76514250, 'Agri-food systems': 51047480, 'Emissions on agricultural land': 32394680},\n",
    "    'Brazil': {'Agri-food systems': 77177970, 'Emissions on agricultural land': 71641150, 'AFOLU': 52021460}\n",
    "}\n",
    "\n",
    "fig, axs = plt.subplots(2, 2, figsize=(12, 8))\n",
    "axs = axs.flatten()\n",
    "\n",
    "for idx, (country, items) in enumerate(top_items_per_country.items()):\n",
    "    sizes = items.values()\n",
    "    labels = items.keys()\n",
    "    axs[idx].pie(sizes, labels=labels, autopct='%1.1f%%', startangle=140)\n",
    "    axs[idx].set_title(f'Top 3 Emission Items for {country}')\n",
    "\n",
    "plt.tight_layout()\n",
    "plt.show()"
   ]
  },
  {
   "cell_type": "markdown",
   "metadata": {},
   "source": [
    "Now we have done some visualisation a another part of our dataset, that represents climate change statistics per country from 1961 to 2022 years."
   ]
  },
  {
   "cell_type": "code",
   "execution_count": null,
   "metadata": {},
   "outputs": [],
   "source": [
    "# filling missing values\n",
    "data = pd.read_excel(file_path, sheet_name='climate_change_indicators')\n",
    "yearly_columns = data.columns[data.columns.get_loc('F1961'):data.columns.get_loc('F2022')+1]\n",
    "data[yearly_columns] = data[yearly_columns].interpolate(method='linear', axis=0)\n",
    "data"
   ]
  },
  {
   "cell_type": "markdown",
   "metadata": {},
   "source": [
    "From this particular dataset we want to extratc top 5 countries that had the highest average change degree for all the periods, by the following steps:\n",
    "1. Calculate the mean temperature change for each country over the years\n",
    "2. Sort the countries based on the average temperature change in descending order\n",
    "3. Display the top 5 countries with the highest average temperature change"
   ]
  },
  {
   "cell_type": "code",
   "execution_count": null,
   "metadata": {},
   "outputs": [],
   "source": [
    "data['Average_Temperature_Change'] = data[yearly_columns].mean(axis=1)\n",
    "\n",
    "sorted_data = data.sort_values(by='Average_Temperature_Change', ascending=False)\n",
    "\n",
    "top_5_countries = sorted_data[['Country', 'Average_Temperature_Change']].head(5)\n",
    "top_5_countries"
   ]
  },
  {
   "cell_type": "markdown",
   "metadata": {},
   "source": [
    "A heatmap\n",
    "1. Create a DataFrame suitable for the heatmap\n",
    "2. Transpose the DataFrame to have years as rows and countries as columns"
   ]
  },
  {
   "cell_type": "code",
   "execution_count": null,
   "metadata": {},
   "outputs": [],
   "source": [
    "top_5_data = data[data['Country'].isin(top_5_countries['Country'])]\n",
    "box_plot_data = [top_5_data[top_5_data['Country'] == country][yearly_columns].values.flatten() for country in top_5_countries['Country']]\n",
    "\n",
    "heatmap_data = pd.DataFrame()\n",
    "for country in top_5_countries['Country']:\n",
    "    heatmap_data[country] = top_5_data[top_5_data['Country'] == country][yearly_columns].iloc[0].values\n",
    "\n",
    "heatmap_data = heatmap_data.T\n",
    "heatmap_data.columns = np.arange(1961, 2023)\n",
    "\n",
    "plt.figure(figsize=(20, 10))\n",
    "sns.heatmap(heatmap_data, annot=False, cmap='coolwarm', linewidths=.5)\n",
    "plt.title('Heatmap of Yearly Temperature Changes for Top 5 Countries')\n",
    "plt.xlabel('Year')\n",
    "plt.ylabel('Country')\n",
    "plt.show()"
   ]
  },
  {
   "cell_type": "markdown",
   "metadata": {},
   "source": [
    "# In conclusion"
   ]
  },
  {
   "cell_type": "markdown",
   "metadata": {},
   "source": []
  }
 ],
 "metadata": {
  "kernelspec": {
   "display_name": "Python 3",
   "language": "python",
   "name": "python3"
  },
  "language_info": {
   "codemirror_mode": {
    "name": "ipython",
    "version": 3
   },
   "file_extension": ".py",
   "mimetype": "text/x-python",
   "name": "python",
   "nbconvert_exporter": "python",
   "pygments_lexer": "ipython3",
   "version": "3.11.9"
  }
 },
 "nbformat": 4,
 "nbformat_minor": 2
}
